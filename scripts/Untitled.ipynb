{
 "cells": [
  {
   "cell_type": "code",
   "execution_count": 1,
   "metadata": {},
   "outputs": [],
   "source": [
    "import numpy as np\n",
    "import pandas as pd\n",
    "import seaborn as sns\n",
    "import matplotlib.pyplot as plt\n",
    "import statsmodels.api as sm"
   ]
  },
  {
   "cell_type": "code",
   "execution_count": 3,
   "metadata": {},
   "outputs": [],
   "source": [
    "%load_ext autoreload\n",
    "%autoreload 2"
   ]
  },
  {
   "cell_type": "code",
   "execution_count": 4,
   "metadata": {},
   "outputs": [],
   "source": [
    "%matplotlib inline"
   ]
  },
  {
   "cell_type": "markdown",
   "metadata": {},
   "source": [
    "## Предобработка данных.\n",
    "\n",
    "Этот ноутбук посвящён предобработке данных акций четырёх компаний, выбранных нами для анализа:\n",
    "* FIVE - X5 Retail Group (торги на Мосбирже начались с \n",
    "* MGNT - Магнит, торгуется с . \n",
    "* LNTA - Лента, торгуется с .\n",
    "* MVID - М.Видео, торгуется с . Акции неликвидны, и потому мы ожидаем наиболее высокой волатильности для этого эмитента.\n",
    "\n",
    "Основные задачи:\n",
    "1. Посмотреть длину рядов.\n",
    "2. Сравнить доходность акций за рассматриваемы период.\n",
    "3. Визуально изучить распределения доходностей акций.\n",
    "4. Посчитать выборочные характеристики всех четырёх акций: среднее, дисперсию, стандартное отклонение, куртозис и эксцесс.\n",
    "5. Провести тест Дики-Фуллера для проверки стационарности рядов.\n",
    "6. Построить выборочные ACF и PACF, которые помогут нам выбрать модель среднего для одномерных моделей доходностей.\n",
    "7. Построить выборочные ACF и PACF для квадратов доходностей (если их среднее окажется близким к нулю), которые помогут нам протестировать визуально ряды на наличие условной гетероскедастичности. Как показывает практика, выбор конкретного порядка именно для GARCH-модели не так важен, [поскольку уже GARCH(1,1), как правило, достаточно хорошо описывает условную гетероскедастичность в данных](https://www.jstor.org/stable/25146403?seq=1)."
   ]
  }
 ],
 "metadata": {
  "kernelspec": {
   "display_name": "Python 3",
   "language": "python",
   "name": "python3"
  },
  "language_info": {
   "codemirror_mode": {
    "name": "ipython",
    "version": 3
   },
   "file_extension": ".py",
   "mimetype": "text/x-python",
   "name": "python",
   "nbconvert_exporter": "python",
   "pygments_lexer": "ipython3",
   "version": "3.8.5"
  }
 },
 "nbformat": 4,
 "nbformat_minor": 4
}
